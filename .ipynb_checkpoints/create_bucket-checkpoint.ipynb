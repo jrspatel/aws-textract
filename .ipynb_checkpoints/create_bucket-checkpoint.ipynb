{
 "cells": [
  {
   "cell_type": "code",
   "execution_count": 5,
   "metadata": {},
   "outputs": [
    {
     "name": "stdout",
     "output_type": "stream",
     "text": [
      "importing Jupyter notebook from display.ipynb\n"
     ]
    }
   ],
   "source": [
    "import boto3\n",
    "from boto3.s3.transfer import S3Transfer\n",
    "import os\n",
    "import logging\n",
    "from botocore.exceptions import ClientError\n",
    "import import_ipynb\n",
    "from display import main"
   ]
  },
  {
   "cell_type": "code",
   "execution_count": 6,
   "metadata": {},
   "outputs": [],
   "source": [
    "def create_bucket(bucket_name, region=None):\n",
    "    \"\"\"Create an S3 bucket in a specified region\n",
    "\n",
    "    If a region is not specified, the bucket is created in the S3 default\n",
    "    region (us-east-1).\n",
    "\n",
    "    :param bucket_name: Bucket to create\n",
    "    :param region: String region to create bucket in, e.g., 'us-west-2'\n",
    "    :return: True if bucket created, else False\n",
    "    \"\"\"\n",
    "\n",
    "    # Create bucket\n",
    "    try:\n",
    "        if region is None:\n",
    "            s3_client = boto3.client('s3')\n",
    "            s3_client.create_bucket(Bucket=bucket_name)\n",
    "        else:\n",
    "            s3_client = boto3.client('s3', region_name=region)\n",
    "            location = {'LocationConstraint': region}\n",
    "            s3_client.create_bucket(Bucket=bucket_name,\n",
    "                                    CreateBucketConfiguration=location)\n",
    "    except ClientError as e:\n",
    "        print(1)\n",
    "        logging.error(e)\n",
    "        return False\n",
    "    return True"
   ]
  },
  {
   "cell_type": "code",
   "execution_count": 7,
   "metadata": {},
   "outputs": [],
   "source": [
    "def upload_file_s3():\n",
    "    # upload file to s3 bucket\n",
    "    bucket = 'arthashastra-1'\n",
    "    s3_client = boto3.client('s3')\n",
    "    transfer = S3Transfer(s3_client)\n",
    "    rootdir = 'C:/Users/lenovo/PycharmProjects/aws-textract1/Images/'\n",
    "\n",
    "    for folder in os.listdir(rootdir):\n",
    "\n",
    "        folderdir = rootdir+folder\n",
    "        for pages in os.listdir(folderdir):\n",
    "            print('pages :' + pages)\n",
    "            keys = folder+'/'+pages\n",
    "            print(keys)\n",
    "            transfer.upload_file(folderdir+'/'+pages,bucket,  keys)\n",
    "        print('==============')\n",
    "    #return \"ALL FILES SUCCESSFULLY UPLOADED\""
   ]
  },
  {
   "cell_type": "code",
   "execution_count": 17,
   "metadata": {},
   "outputs": [],
   "source": [
    "def textract_job():\n",
    "    s3_client = boto3.client('s3')\n",
    "    tess = boto3.client('textract', region_name='ap-south-1')\n",
    "    bucket = 'arthashastra-1'\n",
    "    print(1)\n",
    "\n",
    "    output_file = 'Output.csv'\n",
    "    path = 'C:/Users/lenovo/PycharmProjects/aws-textract1/Images'\n",
    "    with open(output_file, \"wt\") as fout:\n",
    "        files = os.listdir(path)\n",
    "        for file in files:\n",
    "            fle = os.listdir(path+'/'+file)\n",
    "            for f in fle:\n",
    "                file_name = path+'/'+file+'/'+f\n",
    "                print(f)\n",
    "                main(file_name,fout)"
   ]
  },
  {
   "cell_type": "code",
   "execution_count": 18,
   "metadata": {},
   "outputs": [
    {
     "name": "stdout",
     "output_type": "stream",
     "text": [
      "1\n",
      "Invoice_1_0.png\n",
      "Image loaded C:/Users/lenovo/PycharmProjects/aws-textract1/Images/Invoice_1/Invoice_1_0.png\n"
     ]
    },
    {
     "ename": "NameError",
     "evalue": "name 'output_file' is not defined",
     "output_type": "error",
     "traceback": [
      "\u001b[1;31m---------------------------------------------------------------------------\u001b[0m",
      "\u001b[1;31mNameError\u001b[0m                                 Traceback (most recent call last)",
      "\u001b[1;32m<ipython-input-18-cccf424f7396>\u001b[0m in \u001b[0;36m<module>\u001b[1;34m\u001b[0m\n\u001b[1;32m----> 1\u001b[1;33m \u001b[0mprint\u001b[0m\u001b[1;33m(\u001b[0m\u001b[0mtextract_job\u001b[0m\u001b[1;33m(\u001b[0m\u001b[1;33m)\u001b[0m\u001b[1;33m)\u001b[0m\u001b[1;33m\u001b[0m\u001b[1;33m\u001b[0m\u001b[0m\n\u001b[0m",
      "\u001b[1;32m<ipython-input-17-5846c89c2a79>\u001b[0m in \u001b[0;36mtextract_job\u001b[1;34m()\u001b[0m\n\u001b[0;32m     14\u001b[0m                 \u001b[0mfile_name\u001b[0m \u001b[1;33m=\u001b[0m \u001b[0mpath\u001b[0m\u001b[1;33m+\u001b[0m\u001b[1;34m'/'\u001b[0m\u001b[1;33m+\u001b[0m\u001b[0mfile\u001b[0m\u001b[1;33m+\u001b[0m\u001b[1;34m'/'\u001b[0m\u001b[1;33m+\u001b[0m\u001b[0mf\u001b[0m\u001b[1;33m\u001b[0m\u001b[1;33m\u001b[0m\u001b[0m\n\u001b[0;32m     15\u001b[0m                 \u001b[0mprint\u001b[0m\u001b[1;33m(\u001b[0m\u001b[0mf\u001b[0m\u001b[1;33m)\u001b[0m\u001b[1;33m\u001b[0m\u001b[1;33m\u001b[0m\u001b[0m\n\u001b[1;32m---> 16\u001b[1;33m                 \u001b[0mmain\u001b[0m\u001b[1;33m(\u001b[0m\u001b[0mfile_name\u001b[0m\u001b[1;33m,\u001b[0m\u001b[0mfout\u001b[0m\u001b[1;33m)\u001b[0m\u001b[1;33m\u001b[0m\u001b[1;33m\u001b[0m\u001b[0m\n\u001b[0m",
      "\u001b[1;32m~\\PycharmProjects\\aws-textract1\\display.ipynb\u001b[0m in \u001b[0;36mmain\u001b[1;34m(file_name, fout)\u001b[0m\n",
      "\u001b[1;31mNameError\u001b[0m: name 'output_file' is not defined"
     ]
    }
   ],
   "source": [
    "print(textract_job())"
   ]
  },
  {
   "cell_type": "code",
   "execution_count": null,
   "metadata": {},
   "outputs": [],
   "source": []
  }
 ],
 "metadata": {
  "kernelspec": {
   "display_name": "Python 3",
   "language": "python",
   "name": "python3"
  },
  "language_info": {
   "codemirror_mode": {
    "name": "ipython",
    "version": 3
   },
   "file_extension": ".py",
   "mimetype": "text/x-python",
   "name": "python",
   "nbconvert_exporter": "python",
   "pygments_lexer": "ipython3",
   "version": "3.8.3"
  }
 },
 "nbformat": 4,
 "nbformat_minor": 4
}
