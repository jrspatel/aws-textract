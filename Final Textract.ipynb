{
 "cells": [
  {
   "cell_type": "code",
   "execution_count": 10,
   "metadata": {},
   "outputs": [],
   "source": [
    "import boto3\n",
    "from boto3.s3.transfer import S3Transfer\n",
    "import os\n",
    "import import_ipynb\n",
    "# from pdf2Image import convert_pdf\n",
    "# from create_bucket import create_bucket,upload_file_s3,textract_job"
   ]
  },
  {
   "cell_type": "code",
   "execution_count": 11,
   "metadata": {},
   "outputs": [
    {
     "name": "stdout",
     "output_type": "stream",
     "text": [
      "Requirement already satisfied: pdf2Image in c:\\users\\lenovo\\anaconda3\\lib\\site-packages (1.16.0)\n",
      "Requirement already satisfied: pillow in c:\\users\\lenovo\\anaconda3\\lib\\site-packages (from pdf2Image) (7.2.0)\n"
     ]
    }
   ],
   "source": [
    "!pip install pdf2Image"
   ]
  },
  {
   "cell_type": "markdown",
   "metadata": {},
   "source": [
    "## Converting pdf2Images\n",
    "The below function heps in converting pdf's to Images\n"
   ]
  },
  {
   "cell_type": "code",
   "execution_count": 12,
   "metadata": {},
   "outputs": [],
   "source": [
    "from pdf2image import convert_from_path\n",
    "import os"
   ]
  },
  {
   "cell_type": "code",
   "execution_count": 13,
   "metadata": {},
   "outputs": [
    {
     "ename": "SyntaxError",
     "evalue": "invalid syntax (<ipython-input-13-781bfa385e5e>, line 2)",
     "output_type": "error",
     "traceback": [
      "\u001b[1;36m  File \u001b[1;32m\"<ipython-input-13-781bfa385e5e>\"\u001b[1;36m, line \u001b[1;32m2\u001b[0m\n\u001b[1;33m    conda install -c conda-forge poppler\u001b[0m\n\u001b[1;37m          ^\u001b[0m\n\u001b[1;31mSyntaxError\u001b[0m\u001b[1;31m:\u001b[0m invalid syntax\n"
     ]
    }
   ],
   "source": [
    "# Run this command -- ?\n",
    "conda install -c conda-forge poppler"
   ]
  },
  {
   "cell_type": "code",
   "execution_count": null,
   "metadata": {},
   "outputs": [],
   "source": []
  },
  {
   "cell_type": "code",
   "execution_count": 14,
   "metadata": {},
   "outputs": [
    {
     "name": "stdout",
     "output_type": "stream",
     "text": [
      "C:\\Users\\lenovo\\PycharmProjects\\aws-textract1\n"
     ]
    }
   ],
   "source": [
    "import os\n",
    "print(os.getcwd())"
   ]
  },
  {
   "cell_type": "code",
   "execution_count": 26,
   "metadata": {},
   "outputs": [],
   "source": [
    "# root directory\n",
    "#conversion\n",
    "def convert_pdf_Img(root_dir, save_dir, res=400):\n",
    "    \n",
    "    for pdf_path in os.listdir(root_dir):\n",
    "        path = (root_dir +'\\\\' + pdf_path)\n",
    "        pages = convert_from_path(path,res)\n",
    "\n",
    "        name_with_extension = pdf_path.rsplit('/')[-1]\n",
    "        name = name_with_extension.rsplit('.')[0]\n",
    "\n",
    "        out_path = os.path.join(save_dir,name)\n",
    "        os.makedirs(out_path)\n",
    "\n",
    "        for idx,page in enumerate(pages):\n",
    "            page.save(f'{out_path}/{name}_{idx}.png','PNG')"
   ]
  },
  {
   "cell_type": "code",
   "execution_count": null,
   "metadata": {},
   "outputs": [],
   "source": []
  },
  {
   "cell_type": "markdown",
   "metadata": {},
   "source": [
    "## Starting the Textract Job"
   ]
  },
  {
   "cell_type": "code",
   "execution_count": 41,
   "metadata": {},
   "outputs": [],
   "source": [
    "# decision making whether to go for key-value or the table output\n",
    "def textract_job(data_dir):\n",
    "    s3_client = boto3.client('s3')\n",
    "    tess = boto3.client('textract', region_name='ap-south-1')\n",
    "    bucket = 'arthashastra-1'\n",
    "    print(1)\n",
    "    print(\"MAKE CHOICE FOR THE INPUT:\")\n",
    "    print(\"=============================\")\n",
    "    print(\"KV == KEY_VALUE PAIR \\nTABLE == TABLE OUTPUT\")\n",
    "    \n",
    "    inpt = input('enter the input : ')\n",
    "    \n",
    "    if inpt == 'KV':\n",
    "        output_file = data_dir + '\\\\' + 'Output_KV.csv'\n",
    "        path = data_dir + '\\\\' + 'Test_Inv'\n",
    "        print(path)\n",
    "        with open(output_file, \"wt\") as fout:\n",
    "            files = os.listdir(path)\n",
    "            for file in files:\n",
    "                fle = os.listdir(path+'/'+file)\n",
    "                for f in fle:\n",
    "                    file_name = path+'/'+file+'/'+f\n",
    "                    print(f)\n",
    "                    main_KV(file_name,fout)\n",
    "                    \n",
    "    elif inpt==\"TABLE\":\n",
    "        output_file = data_dir + '\\\\' + 'Output.csv'\n",
    "        path = data_dir + '\\\\' + 'Test_Inv'\n",
    "        with open(output_file, \"wt\") as fout:\n",
    "            files = os.listdir(path)\n",
    "            for file in files:\n",
    "                fle = os.listdir(path+'/'+file)\n",
    "                for f in fle:\n",
    "                    file_name = path+'/'+file+'/'+f\n",
    "                    print(f)\n",
    "                    main(file_name,fout)\n",
    "    else:\n",
    "        print(\"****=============================****\")\n",
    "        print(\"please chooce the right option\")\n",
    "        textract_job(data_dir)\n",
    "    "
   ]
  },
  {
   "cell_type": "markdown",
   "metadata": {},
   "source": [
    "## Table Function"
   ]
  },
  {
   "cell_type": "code",
   "execution_count": 35,
   "metadata": {},
   "outputs": [],
   "source": [
    "import webbrowser, os\n",
    "import json\n",
    "import boto3\n",
    "import io\n",
    "from io import BytesIO\n",
    "import sys\n",
    "from pprint import pprint"
   ]
  },
  {
   "cell_type": "code",
   "execution_count": 36,
   "metadata": {},
   "outputs": [],
   "source": [
    "def get_rows_columns_map(table_result, blocks_map):\n",
    "    rows = {}\n",
    "    for relationship in table_result['Relationships']:\n",
    "        if relationship['Type'] == 'CHILD':\n",
    "            for child_id in relationship['Ids']:\n",
    "                cell = blocks_map[child_id]\n",
    "                if cell['BlockType'] == 'CELL':\n",
    "                    row_index = cell['RowIndex']\n",
    "                    col_index = cell['ColumnIndex']\n",
    "                    if row_index not in rows:\n",
    "                        # create new row\n",
    "                        rows[row_index] = {}\n",
    "\n",
    "                    # get the text value\n",
    "                    rows[row_index][col_index] = get_text(cell, blocks_map)\n",
    "    return rows\n",
    "\n",
    "def get_text(result, blocks_map):\n",
    "    text = ''\n",
    "    if 'Relationships' in result:\n",
    "        for relationship in result['Relationships']:\n",
    "            if relationship['Type'] == 'CHILD':\n",
    "                for child_id in relationship['Ids']:\n",
    "                    word = blocks_map[child_id]\n",
    "                    if word['BlockType'] == 'WORD':\n",
    "                        text += word['Text'] + ' '\n",
    "                    if word['BlockType'] == 'SELECTION_ELEMENT':\n",
    "                        if word['SelectionStatus'] == 'SELECTED':\n",
    "                            text += 'X '\n",
    "    return text\n",
    "\n",
    "def get_table_csv_results(file_name):\n",
    "    with open(file_name, 'rb') as file:\n",
    "        img_test = file.read()\n",
    "        bytes_test = bytearray(img_test)\n",
    "        print('Image loaded', file_name)\n",
    "\n",
    "    # process using image bytes\n",
    "    # get the results\n",
    "    client = boto3.client('textract')\n",
    "\n",
    "    response = client.analyze_document(Document={'Bytes': bytes_test}, FeatureTypes=['TABLES'])\n",
    "\n",
    "    # Get the text blocks\n",
    "    blocks = response['Blocks']\n",
    "\n",
    "\n",
    "    blocks_map = {}\n",
    "    table_blocks = []\n",
    "    for block in blocks:\n",
    "        blocks_map[block['Id']] = block\n",
    "        if block['BlockType'] == \"TABLE\":\n",
    "            table_blocks.append(block)\n",
    "\n",
    "    if len(table_blocks) <= 0:\n",
    "        return \"<b> NO Table FOUND </b>\"\n",
    "\n",
    "    csv = ''\n",
    "    for index, table in enumerate(table_blocks):\n",
    "        csv += generate_table_csv(table, blocks_map, index + 1)\n",
    "        csv += '\\n\\n'\n",
    "\n",
    "    return csv\n",
    "\n",
    "\n",
    "def generate_table_csv(table_result, blocks_map, table_index):\n",
    "    rows = get_rows_columns_map(table_result, blocks_map)\n",
    "\n",
    "    table_id = 'Table_' + str(table_index)\n",
    "\n",
    "    # get cells.\n",
    "    csv = 'Table: {0}\\n\\n'.format(table_id)\n",
    "\n",
    "    for row_index, cols in rows.items():\n",
    "\n",
    "        for col_index, text in cols.items():\n",
    "            csv += '{}'.format(text) + \",\"\n",
    "        csv += '\\n'\n",
    "\n",
    "    csv += '\\n\\n\\n'\n",
    "    return csv\n",
    "\n",
    "def main(file_name,fout):\n",
    "    table_csv = get_table_csv_results(file_name)\n",
    "\n",
    "    #output_file = 'C:/Users/lenovo/PycharmProjects/aws-textract1/Output.csv'\n",
    "\n",
    "    # replace content\n",
    "    #fout.write(file_name)\n",
    "    fout.write(table_csv)\n",
    "\n",
    "    # show the results\n",
    "    #print('CSV OUTPUT FILE: ', output_file)\n",
    "\n",
    "\n"
   ]
  },
  {
   "cell_type": "markdown",
   "metadata": {},
   "source": [
    "## Key-Value pair Function"
   ]
  },
  {
   "cell_type": "code",
   "execution_count": 37,
   "metadata": {},
   "outputs": [],
   "source": [
    "import boto3\n",
    "import sys\n",
    "import re\n",
    "import json\n"
   ]
  },
  {
   "cell_type": "code",
   "execution_count": 38,
   "metadata": {},
   "outputs": [],
   "source": [
    "def get_kv_map(file_name):\n",
    "\n",
    "    with open(file_name, 'rb') as file:\n",
    "        img_test = file.read()\n",
    "        bytes_test = bytearray(img_test)\n",
    "        print('Image loaded', file_name)\n",
    "\n",
    "    # process using image bytes\n",
    "    client = boto3.client('textract')\n",
    "    response = client.analyze_document(Document={'Bytes': bytes_test}, FeatureTypes=['FORMS'])\n",
    "\n",
    "    # Get the text blocks\n",
    "    blocks=response['Blocks']\n",
    "    \n",
    "\n",
    "    # get key and value maps\n",
    "    key_map = {}\n",
    "    value_map = {}\n",
    "    block_map = {}\n",
    "    for block in blocks:\n",
    "        block_id = block['Id']\n",
    "        block_map[block_id] = block\n",
    "        if block['BlockType'] == \"KEY_VALUE_SET\":\n",
    "            if 'KEY' in block['EntityTypes']:\n",
    "                key_map[block_id] = block\n",
    "            else:\n",
    "                value_map[block_id] = block\n",
    "\n",
    "    return key_map, value_map, block_map\n",
    "\n",
    "\n",
    "def get_kv_relationship(key_map, value_map, block_map):\n",
    "    kvs = {}\n",
    "    for block_id, key_block in key_map.items():\n",
    "        value_block = find_value_block(key_block, value_map)\n",
    "        key = get_text(key_block, block_map)\n",
    "        val = get_text(value_block, block_map)\n",
    "        kvs[key] = val\n",
    "    return kvs\n",
    "\n",
    "def find_value_block(key_block, value_map):\n",
    "    for relationship in key_block['Relationships']:\n",
    "        if relationship['Type'] == 'VALUE':\n",
    "            for value_id in relationship['Ids']:\n",
    "                value_block = value_map[value_id]\n",
    "    return value_block\n",
    "\n",
    "\n",
    "def get_text(result, blocks_map):\n",
    "    text = ''\n",
    "    if 'Relationships' in result:\n",
    "        for relationship in result['Relationships']:\n",
    "            if relationship['Type'] == 'CHILD':\n",
    "                for child_id in relationship['Ids']:\n",
    "                    word = blocks_map[child_id]\n",
    "                    if word['BlockType'] == 'WORD':\n",
    "                        text += word['Text'] + ' '\n",
    "                    if word['BlockType'] == 'SELECTION_ELEMENT':\n",
    "                        if word['SelectionStatus'] == 'SELECTED':\n",
    "                            text += 'X '    \n",
    "\n",
    "                                \n",
    "    return text\n",
    "\n",
    "def print_kvs(kvs):\n",
    "    for key, value in kvs.items():\n",
    "        print(key, \":\", value)\n",
    "\n",
    "\n",
    "def search_value(kvs, search_key):\n",
    "    for key, value in kvs.items():\n",
    "        if re.search(search_key, key, re.IGNORECASE):\n",
    "            return value\n",
    "\n",
    "def main_KV(file_name,fout):\n",
    "\n",
    "    key_map, value_map, block_map = get_kv_map(file_name)\n",
    "\n",
    "    # Get Key Value relationship\n",
    "    kvs = get_kv_relationship(key_map, value_map, block_map)\n",
    "    print(\"\\n\\n== FOUND KEY : VALUE pairs ===\\n\")\n",
    "    fout.write(str(kvs))\n",
    "    #print_kvs(kvs)\n",
    "\n",
    "    # Start searching a key value\n",
    "    ''' while input('\\n Do you want to search a value for a key? (enter \"n\" for exit) ') != 'n':\n",
    "        search_key = input('\\n Enter a search key:')\n",
    "        print('The value is:', search_value(kvs, search_key)) '''\n"
   ]
  },
  {
   "cell_type": "markdown",
   "metadata": {},
   "source": [
    "## Main Function"
   ]
  },
  {
   "cell_type": "code",
   "execution_count": 39,
   "metadata": {},
   "outputs": [
    {
     "name": "stdout",
     "output_type": "stream",
     "text": [
      "C:\\Users\\lenovo\\PycharmProjects\\aws-textract1\n"
     ]
    }
   ],
   "source": [
    "print(os.getcwd())"
   ]
  },
  {
   "cell_type": "code",
   "execution_count": 40,
   "metadata": {},
   "outputs": [
    {
     "name": "stdout",
     "output_type": "stream",
     "text": [
      "C:\\Users\\lenovo\\PycharmProjects\\aws-textract1\\data\n",
      "1\n",
      "MAKE CHOICE FOR THE INPUT:\n",
      "=============================\n",
      "KV == KEY_VALUE PAIR \n",
      "TABLE == TABLE OUTPUT\n",
      "enter the inputfdmkv\n",
      "****=============================****\n",
      "please chooce the right option\n"
     ]
    },
    {
     "ename": "TypeError",
     "evalue": "textract_job() missing 1 required positional argument: 'data_dir'",
     "output_type": "error",
     "traceback": [
      "\u001b[1;31m---------------------------------------------------------------------------\u001b[0m",
      "\u001b[1;31mTypeError\u001b[0m                                 Traceback (most recent call last)",
      "\u001b[1;32m<ipython-input-40-425550f2be86>\u001b[0m in \u001b[0;36m<module>\u001b[1;34m\u001b[0m\n\u001b[0;32m      8\u001b[0m     \u001b[1;31m# convert_pdf_Img(data_dir,save_dir,res=400)\u001b[0m\u001b[1;33m\u001b[0m\u001b[1;33m\u001b[0m\u001b[1;33m\u001b[0m\u001b[0m\n\u001b[0;32m      9\u001b[0m \u001b[1;33m\u001b[0m\u001b[0m\n\u001b[1;32m---> 10\u001b[1;33m     \u001b[0mtextract_job\u001b[0m\u001b[1;33m(\u001b[0m\u001b[0mroot_dir\u001b[0m\u001b[1;33m)\u001b[0m\u001b[1;33m\u001b[0m\u001b[1;33m\u001b[0m\u001b[0m\n\u001b[0m",
      "\u001b[1;32m<ipython-input-34-657dec7b74cf>\u001b[0m in \u001b[0;36mtextract_job\u001b[1;34m(data_dir)\u001b[0m\n\u001b[0;32m     38\u001b[0m         \u001b[0mprint\u001b[0m\u001b[1;33m(\u001b[0m\u001b[1;34m\"****=============================****\"\u001b[0m\u001b[1;33m)\u001b[0m\u001b[1;33m\u001b[0m\u001b[1;33m\u001b[0m\u001b[0m\n\u001b[0;32m     39\u001b[0m         \u001b[0mprint\u001b[0m\u001b[1;33m(\u001b[0m\u001b[1;34m\"please chooce the right option\"\u001b[0m\u001b[1;33m)\u001b[0m\u001b[1;33m\u001b[0m\u001b[1;33m\u001b[0m\u001b[0m\n\u001b[1;32m---> 40\u001b[1;33m         \u001b[0mtextract_job\u001b[0m\u001b[1;33m(\u001b[0m\u001b[1;33m)\u001b[0m\u001b[1;33m\u001b[0m\u001b[1;33m\u001b[0m\u001b[0m\n\u001b[0m\u001b[0;32m     41\u001b[0m \u001b[1;33m\u001b[0m\u001b[0m\n",
      "\u001b[1;31mTypeError\u001b[0m: textract_job() missing 1 required positional argument: 'data_dir'"
     ]
    }
   ],
   "source": [
    "\n",
    "if __name__ == '__main__':\n",
    "    \n",
    "    #filename\n",
    "    root_dir = os.getcwd()\n",
    "    data_dir = root_dir + '\\\\' + 'data'\n",
    "    print(data_dir)\n",
    "    save_dir =  root_dir + '\\\\' + 'Images'\n",
    "    # convert_pdf_Img(data_dir,save_dir,res=400)\n",
    "    \n",
    "    textract_job(root_dir)"
   ]
  },
  {
   "cell_type": "code",
   "execution_count": null,
   "metadata": {},
   "outputs": [],
   "source": []
  },
  {
   "cell_type": "code",
   "execution_count": null,
   "metadata": {},
   "outputs": [],
   "source": []
  },
  {
   "cell_type": "code",
   "execution_count": null,
   "metadata": {},
   "outputs": [],
   "source": []
  }
 ],
 "metadata": {
  "kernelspec": {
   "display_name": "Python 3",
   "language": "python",
   "name": "python3"
  }
 },
 "nbformat": 4,
 "nbformat_minor": 4
}
