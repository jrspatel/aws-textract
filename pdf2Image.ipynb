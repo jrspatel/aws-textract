{
 "cells": [
  {
   "cell_type": "code",
   "execution_count": 1,
   "metadata": {},
   "outputs": [],
   "source": [
    "from pdf2image import convert_from_path\n",
    "import os"
   ]
  },
  {
   "cell_type": "code",
   "execution_count": 5,
   "metadata": {},
   "outputs": [],
   "source": [
    "#filename\n",
    "Root_dir = 'C:/Users/lenovo/PycharmProjects/Untitled Folder 1/Data/'"
   ]
  },
  {
   "cell_type": "code",
   "execution_count": 6,
   "metadata": {},
   "outputs": [
    {
     "name": "stdout",
     "output_type": "stream",
     "text": [
      "Requirement already satisfied: pdf2image in c:\\users\\lenovo\\anaconda3\\lib\\site-packages (1.16.0)\n",
      "Requirement already satisfied: pillow in c:\\users\\lenovo\\anaconda3\\lib\\site-packages (from pdf2image) (7.2.0)\n"
     ]
    }
   ],
   "source": [
    "!pip install pdf2image"
   ]
  },
  {
   "cell_type": "code",
   "execution_count": 1,
   "metadata": {},
   "outputs": [],
   "source": [
    "#conversion\n",
    "def convert_pdf(pdf_path, save_dir, res=400):\n",
    "    print(pdf_path)\n",
    "    pages = convert_from_path(pdf_path,res)\n",
    "    print(pages)\n",
    "    name_with_extension = pdf_path.rsplit('/')[-1]\n",
    "    print(name_with_extension_with_extension)\n",
    "    name = name_with_extension.rsplit('.')[0]\n",
    "    print(name)\n",
    "    out_path = os.path.join(save_dir,name)\n",
    "    os.makedirs(out_path)\n",
    "\n",
    "    for idx,page in enumerate(pages):\n",
    "        page.save(f'{out_path}/{name}_{idx}.png','PNG')"
   ]
  },
  {
   "cell_type": "code",
   "execution_count": null,
   "metadata": {},
   "outputs": [],
   "source": []
  }
 ],
 "metadata": {
  "kernelspec": {
   "display_name": "Python 3",
   "language": "python",
   "name": "python3"
  },
  "language_info": {
   "codemirror_mode": {
    "name": "ipython",
    "version": 3
   },
   "file_extension": ".py",
   "mimetype": "text/x-python",
   "name": "python",
   "nbconvert_exporter": "python",
   "pygments_lexer": "ipython3",
   "version": "3.8.3"
  }
 },
 "nbformat": 4,
 "nbformat_minor": 4
}
